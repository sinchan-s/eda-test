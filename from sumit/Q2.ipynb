{
 "cells": [
  {
   "cell_type": "code",
   "execution_count": 1,
   "id": "8734c5a1",
   "metadata": {},
   "outputs": [],
   "source": [
    "import pandas as pd"
   ]
  },
  {
   "cell_type": "code",
   "execution_count": 2,
   "id": "f3712ea2",
   "metadata": {},
   "outputs": [
    {
     "data": {
      "text/html": [
       "<div>\n",
       "<style scoped>\n",
       "    .dataframe tbody tr th:only-of-type {\n",
       "        vertical-align: middle;\n",
       "    }\n",
       "\n",
       "    .dataframe tbody tr th {\n",
       "        vertical-align: top;\n",
       "    }\n",
       "\n",
       "    .dataframe thead th {\n",
       "        text-align: right;\n",
       "    }\n",
       "</style>\n",
       "<table border=\"1\" class=\"dataframe\">\n",
       "  <thead>\n",
       "    <tr style=\"text-align: right;\">\n",
       "      <th></th>\n",
       "      <th>customer_name</th>\n",
       "      <th>status</th>\n",
       "      <th>order_id</th>\n",
       "    </tr>\n",
       "  </thead>\n",
       "  <tbody>\n",
       "    <tr>\n",
       "      <th>0</th>\n",
       "      <td>Rahul</td>\n",
       "      <td>Delivered</td>\n",
       "      <td>1</td>\n",
       "    </tr>\n",
       "    <tr>\n",
       "      <th>1</th>\n",
       "      <td>Rahul</td>\n",
       "      <td>Delivered</td>\n",
       "      <td>2</td>\n",
       "    </tr>\n",
       "    <tr>\n",
       "      <th>2</th>\n",
       "      <td>Samyak</td>\n",
       "      <td>Delivered</td>\n",
       "      <td>3</td>\n",
       "    </tr>\n",
       "    <tr>\n",
       "      <th>3</th>\n",
       "      <td>Samyak</td>\n",
       "      <td>Created</td>\n",
       "      <td>4</td>\n",
       "    </tr>\n",
       "    <tr>\n",
       "      <th>4</th>\n",
       "      <td>Rohan</td>\n",
       "      <td>Submitted</td>\n",
       "      <td>5</td>\n",
       "    </tr>\n",
       "    <tr>\n",
       "      <th>5</th>\n",
       "      <td>Rohan</td>\n",
       "      <td>Created</td>\n",
       "      <td>6</td>\n",
       "    </tr>\n",
       "    <tr>\n",
       "      <th>6</th>\n",
       "      <td>Rohan</td>\n",
       "      <td>Submitted</td>\n",
       "      <td>7</td>\n",
       "    </tr>\n",
       "    <tr>\n",
       "      <th>7</th>\n",
       "      <td>Prateek</td>\n",
       "      <td>Delivered</td>\n",
       "      <td>8</td>\n",
       "    </tr>\n",
       "    <tr>\n",
       "      <th>8</th>\n",
       "      <td>Prateek</td>\n",
       "      <td>Delivered</td>\n",
       "      <td>9</td>\n",
       "    </tr>\n",
       "  </tbody>\n",
       "</table>\n",
       "</div>"
      ],
      "text/plain": [
       "  customer_name     status  order_id\n",
       "0         Rahul  Delivered         1\n",
       "1         Rahul  Delivered         2\n",
       "2        Samyak  Delivered         3\n",
       "3        Samyak    Created         4\n",
       "4         Rohan  Submitted         5\n",
       "5         Rohan    Created         6\n",
       "6         Rohan  Submitted         7\n",
       "7       Prateek  Delivered         8\n",
       "8       Prateek  Delivered         9"
      ]
     },
     "execution_count": 2,
     "metadata": {},
     "output_type": "execute_result"
    }
   ],
   "source": [
    "data = {'customer_name':['Rahul', 'Rahul', 'Samyak', 'Samyak', 'Rohan', 'Rohan', 'Rohan', 'Prateek', 'Prateek'],\n",
    "        'status':['Delivered', 'Delivered', 'Delivered', 'Created', 'Submitted', 'Created', 'Submitted', 'Delivered', 'Delivered'],\n",
    "        'order_id':[1, 2, 3, 4, 5, 6, 7, 8, 9]}\n",
    "df = pd.DataFrame(data)\n",
    "df"
   ]
  },
  {
   "cell_type": "code",
   "execution_count": 3,
   "id": "c942831b",
   "metadata": {},
   "outputs": [
    {
     "data": {
      "text/plain": [
       "array(['Rahul', 'Samyak', 'Rohan', 'Prateek'], dtype=object)"
      ]
     },
     "execution_count": 3,
     "metadata": {},
     "output_type": "execute_result"
    }
   ],
   "source": [
    "cust_list = df.customer_name\n",
    "cust_list_unik = cust_list.unique()\n",
    "cust_list_unik"
   ]
  },
  {
   "cell_type": "code",
   "execution_count": 4,
   "id": "ed849b85",
   "metadata": {},
   "outputs": [
    {
     "data": {
      "text/plain": [
       "{'Delivered'}"
      ]
     },
     "execution_count": 4,
     "metadata": {},
     "output_type": "execute_result"
    }
   ],
   "source": [
    "set(df[df.customer_name == 'Rahul'].status.values)"
   ]
  },
  {
   "cell_type": "code",
   "execution_count": 5,
   "id": "7e8b6ccc",
   "metadata": {},
   "outputs": [
    {
     "data": {
      "text/html": [
       "<div>\n",
       "<style scoped>\n",
       "    .dataframe tbody tr th:only-of-type {\n",
       "        vertical-align: middle;\n",
       "    }\n",
       "\n",
       "    .dataframe tbody tr th {\n",
       "        vertical-align: top;\n",
       "    }\n",
       "\n",
       "    .dataframe thead th {\n",
       "        text-align: right;\n",
       "    }\n",
       "</style>\n",
       "<table border=\"1\" class=\"dataframe\">\n",
       "  <thead>\n",
       "    <tr style=\"text-align: right;\">\n",
       "      <th></th>\n",
       "      <th>customer_name</th>\n",
       "      <th>final_status</th>\n",
       "    </tr>\n",
       "  </thead>\n",
       "  <tbody>\n",
       "    <tr>\n",
       "      <th>3</th>\n",
       "      <td>Prateek</td>\n",
       "      <td>Completed</td>\n",
       "    </tr>\n",
       "    <tr>\n",
       "      <th>0</th>\n",
       "      <td>Rahul</td>\n",
       "      <td>Completed</td>\n",
       "    </tr>\n",
       "    <tr>\n",
       "      <th>2</th>\n",
       "      <td>Rohan</td>\n",
       "      <td>Awaiting progress</td>\n",
       "    </tr>\n",
       "    <tr>\n",
       "      <th>1</th>\n",
       "      <td>Samyak</td>\n",
       "      <td>In Progress</td>\n",
       "    </tr>\n",
       "  </tbody>\n",
       "</table>\n",
       "</div>"
      ],
      "text/plain": [
       "  customer_name       final_status\n",
       "3       Prateek          Completed\n",
       "0         Rahul          Completed\n",
       "2         Rohan  Awaiting progress\n",
       "1        Samyak        In Progress"
      ]
     },
     "execution_count": 5,
     "metadata": {},
     "output_type": "execute_result"
    }
   ],
   "source": [
    "status_list = []\n",
    "for i in cust_list_unik:\n",
    "    status_set = set(df[df.customer_name == i].status.values)\n",
    "    if 'Delivered' not in status_set and 'Submitted' not in status_set:\n",
    "        status_list.append('Awaiting Submission')\n",
    "    elif 'Delivered' not in status_set and 'Submitted' in status_set:\n",
    "        status_list.append('Awaiting progress')\n",
    "    elif 'Delivered' in status_set and 'Submitted' in status_set or 'Created' in status_set:\n",
    "        status_list.append('In Progress')\n",
    "    else:\n",
    "        status_list.append('Completed')\n",
    "\n",
    "df2 = pd.DataFrame({'customer_name': cust_list_unik,\n",
    "                  'final_status': status_list})\n",
    "df2.sort_values(by='customer_name')"
   ]
  },
  {
   "cell_type": "code",
   "execution_count": null,
   "id": "44100b27",
   "metadata": {},
   "outputs": [],
   "source": []
  }
 ],
 "metadata": {
  "kernelspec": {
   "display_name": "Python 3 (ipykernel)",
   "language": "python",
   "name": "python3"
  },
  "language_info": {
   "codemirror_mode": {
    "name": "ipython",
    "version": 3
   },
   "file_extension": ".py",
   "mimetype": "text/x-python",
   "name": "python",
   "nbconvert_exporter": "python",
   "pygments_lexer": "ipython3",
   "version": "3.10.0"
  }
 },
 "nbformat": 4,
 "nbformat_minor": 5
}
